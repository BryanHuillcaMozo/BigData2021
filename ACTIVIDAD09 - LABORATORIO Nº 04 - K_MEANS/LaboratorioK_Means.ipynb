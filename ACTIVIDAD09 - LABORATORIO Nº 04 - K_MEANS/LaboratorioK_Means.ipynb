{
  "cells": [
    {
      "cell_type": "markdown",
      "source": [
        "---\n",
        "#**LABORATORIO Nº 04:  K-MEANS**\n",
        "---\n",
        "\n",
        "\n",
        "\n",
        "\n",
        "# Alumno: Huillca Mozo, Bryan\n",
        "# Codigo: 160329"
      ],
      "metadata": {
        "id": "-BFKOMQ9ZmR1"
      }
    },
    {
      "cell_type": "markdown",
      "metadata": {
        "id": "U4YycmS9ZioY"
      },
      "source": [
        "# **Práctica de laboratorio 5b: k-Means para cuantificar atributos**\n",
        "\n",
        "#### Los algoritmos de agrupación de datos, además de utilizarse en el análisis exploratorio para extraer patrones de similitud entre objetos, pueden utilizarse para comprimir el espacio de datos.\n",
        "\n",
        "#### En este notebook usaremos nuestra base de datos Sentiment Movie Reviews para los experimentos. Primero usaremos la técnica word2vec que aprende una transformación de tokens desde una base a un vector de atributos. A continuación, utilizaremos el algoritmo k-Means para comprimir la información sobre estos atributos y proyectar cada objeto en un espacio de atributos de tamaño fijo.\n",
        "\n",
        "#### Las celdas de ejercicio comienzan con el comentario `# EJERCICIO` y los códigos a completar están marcados con los comentarios `<COMPLETO>`.\n",
        "\n",
        "#### ** En este notebook: **\n",
        "#### *Parte 1:* Word2Vec\n",
        "#### *Parte 2:* k-Means para cuantificar atributos\n",
        "#### *Parte 3:* Aplicar un k-NN"
      ]
    },
    {
      "cell_type": "markdown",
      "metadata": {
        "id": "EVsyZda9Ziod"
      },
      "source": [
        "### **Parte 0: Preliminares**\n",
        "\n",
        "#### Para este notebook usaremos la base de datos de reseñas de películas que se usará para el segundo proyecto.\n",
        "\n",
        "#### La base de datos tiene los campos separados por '\\t' y el siguiente formato:\n",
        "    `\"id de frase\",\"id de oración\",\"Frase\",\"Sentimiento\"`\n",
        "\n",
        "#### Para esta práctica de laboratorio solo usaremos el campo \"Frase\"."
      ]
    },
    {
      "cell_type": "markdown",
      "source": [
        "# ***Instalacion de dependencias para pyspark***"
      ],
      "metadata": {
        "id": "dMic14NVi5hQ"
      }
    },
    {
      "cell_type": "code",
      "source": [
        "!apt-get update\n",
        "!apt-get install openjdk-8-jdk-headless -qq > /dev/null\n",
        "!wget -q http://archive.apache.org/dist/spark/spark-2.3.1/spark-2.3.1-bin-hadoop2.7.tgz\n",
        "!tar xf spark-2.3.1-bin-hadoop2.7.tgz\n",
        "!pip install -q findspark"
      ],
      "metadata": {
        "id": "brzWMyuXjAif"
      },
      "execution_count": null,
      "outputs": []
    },
    {
      "cell_type": "markdown",
      "source": [
        "#VERSION PYSPARK"
      ],
      "metadata": {
        "id": "HYsUWUe4jUZg"
      }
    },
    {
      "cell_type": "code",
      "source": [
        "!pip install pyspark==3.0.1 py4j==0.10.9"
      ],
      "metadata": {
        "id": "GMJOZvCJjCFu",
        "outputId": "37ba1bae-dbab-4e81-8672-b0b9a4bb3e44",
        "colab": {
          "base_uri": "https://localhost:8080/"
        }
      },
      "execution_count": 2,
      "outputs": [
        {
          "output_type": "stream",
          "name": "stdout",
          "text": [
            "Collecting pyspark==3.0.1\n",
            "  Downloading pyspark-3.0.1.tar.gz (204.2 MB)\n",
            "\u001b[K     |████████████████████████████████| 204.2 MB 33 kB/s \n",
            "\u001b[?25hCollecting py4j==0.10.9\n",
            "  Downloading py4j-0.10.9-py2.py3-none-any.whl (198 kB)\n",
            "\u001b[K     |████████████████████████████████| 198 kB 53.2 MB/s \n",
            "\u001b[?25hBuilding wheels for collected packages: pyspark\n",
            "  Building wheel for pyspark (setup.py) ... \u001b[?25l\u001b[?25hdone\n",
            "  Created wheel for pyspark: filename=pyspark-3.0.1-py2.py3-none-any.whl size=204612243 sha256=3e1047de0600efc6aa6e20bd2e85b07cc2f2ec6f3351abcaad0f45f7b88bb912\n",
            "  Stored in directory: /root/.cache/pip/wheels/5e/34/fa/b37b5cef503fc5148b478b2495043ba61b079120b7ff379f9b\n",
            "Successfully built pyspark\n",
            "Installing collected packages: py4j, pyspark\n",
            "Successfully installed py4j-0.10.9 pyspark-3.0.1\n"
          ]
        }
      ]
    },
    {
      "cell_type": "markdown",
      "source": [
        "#Uso de Sparksesion y SparkContext"
      ],
      "metadata": {
        "id": "bnyhQ6fxjWty"
      }
    },
    {
      "cell_type": "code",
      "source": [
        "from pyspark import SparkContext\n",
        "sc = SparkContext.getOrCreate()\n",
        "from pyspark.sql import SparkSession\n",
        "spark = SparkSession.builder.master(\"local[4]\").getOrCreate()"
      ],
      "metadata": {
        "id": "GSxmH__RjmUM"
      },
      "execution_count": 3,
      "outputs": []
    },
    {
      "cell_type": "code",
      "execution_count": 4,
      "metadata": {
        "collapsed": true,
        "id": "4hOKay9IZioe",
        "colab": {
          "base_uri": "https://localhost:8080/"
        },
        "outputId": "43f5e8b1-0259-4dfb-f220-0e62c1312960"
      },
      "outputs": [
        {
          "output_type": "stream",
          "name": "stdout",
          "text": [
            "Read 8528 lines\n",
            "Sample line: (63295, 'An effortlessly accomplished and richly resonant work .')\n"
          ]
        }
      ],
      "source": [
        "import os\n",
        "import numpy as np\n",
        "\n",
        "def parseRDD(point):\n",
        "    \"\"\" Parser for the current dataset. It receives a data point and return\n",
        "        a sentence (third field).\n",
        "    Args:\n",
        "        point (str): input data point\n",
        "    Returns:\n",
        "        str: a string\n",
        "    \"\"\"    \n",
        "    data = point.split('\\t')\n",
        "    return (int(data[0]),data[2])\n",
        "\n",
        "def notempty(point):\n",
        "    \"\"\" Returns whether the point string is not empty\n",
        "    Args:\n",
        "        point (str): input string\n",
        "    Returns:\n",
        "        bool: True if it is not empty\n",
        "    \"\"\"   \n",
        "    return len(point[1])>0\n",
        "\n",
        "filename = os.path.join(\"Data\",\"MovieReviews2.tsv\")\n",
        "rawRDD = sc.textFile(filename,100)\n",
        "header = rawRDD.take(1)[0]\n",
        "\n",
        "dataRDD = (rawRDD\n",
        "           #.sample(False, 0.1, seed=42)\n",
        "           .filter(lambda x: x!=header)\n",
        "           .map(parseRDD)\n",
        "           .filter(notempty)\n",
        "           #.sample( False, 0.1, 42 )\n",
        "           )\n",
        "\n",
        "print ('Read {} lines'.format(dataRDD.count()))\n",
        "print ('Sample line: {}'.format(dataRDD.takeSample(False, 1)[0]))"
      ]
    },
    {
      "cell_type": "markdown",
      "metadata": {
        "id": "O1qjOLPXZiof"
      },
      "source": [
        "### **Parte 1: Word2Vec**\n",
        "\n",
        "#### La técnica [word2vec][word2vec] aprende a través de una red neuronal semántica una representación vectorial de cada token en un corpus de tal manera que las palabras semánticamente similares son similares en la representación vectorial.\n",
        "\n",
        "#### PySpark contiene una implementación de esta técnica, para aplicarla basta con pasar un RDD en el que cada objeto representa un documento y cada documento está representado por una lista de tokens en el orden en que aparecen originalmente en el corpus. Después del proceso de entrenamiento, podemos transformar un token usando el método [`transform`](https://spark.apache.org/docs/latest/ml-features) para convertir cada token en una representación vectorial.\n",
        "\n",
        "#### En este punto, cada objeto en nuestra base estará representado por una matriz de tamaño variable.\n",
        "\n",
        "[word2vec]: https://code.google.com/p/word2vec/"
      ]
    },
    {
      "cell_type": "markdown",
      "metadata": {
        "id": "e71_S2tyZiog"
      },
      "source": [
        "### **(1a) Generación de RDD a partir de tokens**\n",
        "\n",
        "#### Use la función de tokenización `tokenize` para generar un RDD `wordsRDD` que contenga listas de tokens de nuestra base de datos original."
      ]
    },
    {
      "cell_type": "code",
      "execution_count": 6,
      "metadata": {
        "collapsed": true,
        "id": "x24rc3b7Zioh",
        "colab": {
          "base_uri": "https://localhost:8080/"
        },
        "outputId": "3b2efd6b-1963-434f-c5e3-dfbc9ff8f01f"
      },
      "outputs": [
        {
          "output_type": "stream",
          "name": "stdout",
          "text": [
            "['quiet', 'introspective', 'entertaining', 'independent', 'worth', 'seeking']\n"
          ]
        }
      ],
      "source": [
        "# EXERCICIO\n",
        "import re\n",
        "\n",
        "split_regex = r'\\W+'\n",
        "\n",
        "stopfile = os.path.join(\"Data\",\"stopwords.txt\")\n",
        "stopwords = set((sc.textFile(stopfile)).collect())\n",
        "\n",
        "def tokenize(string):\n",
        "    \"\"\" An implementation of input string tokenization that excludes stopwords\n",
        "    Args:\n",
        "        string (str): input string\n",
        "    Returns:\n",
        "        list: a list of tokens without stopwords\n",
        "    \"\"\"\n",
        "    str_list = re.split(split_regex, string)\n",
        "    str_list = filter(lambda w: len(w)>0, map(lambda w: w.lower(), str_list))\n",
        "    return [w for w in str_list if w not in stopwords]   #COMPLETAR = [w for w in str_list if w not in stopwords]\n",
        "\n",
        "wordsRDD = dataRDD.map(lambda x: tokenize(x[1]))\n",
        "\n",
        "print (wordsRDD.take(1)[0])"
      ]
    },
    {
      "cell_type": "code",
      "execution_count": 7,
      "metadata": {
        "collapsed": true,
        "id": "TUslwyisZioi"
      },
      "outputs": [],
      "source": [
        "# TEST Tokenize a String (1a)\n",
        "assert wordsRDD.take(1)[0]==[u'quiet', u'introspective', u'entertaining', u'independent', u'worth', u'seeking'], 'lista incorreta!'"
      ]
    },
    {
      "cell_type": "markdown",
      "metadata": {
        "id": "wrF3PBb-Zioj"
      },
      "source": [
        "### **(1b) Aplicando la transformación word2vec**\n",
        "\n",
        "#### Cree una plantilla word2vec aplicando el método `fit` al RDD creado en el ejercicio anterior.\n",
        "\n",
        "#### Para aplicar este método debes hacer un pipeline de métodos, primero ejecutando `Word2Vec()`, luego aplicando el método `setVectorSize()` con el tamaño que queremos para nuestro vector (usa el tamaño 5), seguido de ` setSeed()` para la semilla aleatoria, en caso de experimentos controlados (usaremos 42) y finalmente `fit()` con nuestro `wordsRDD` como parámetro."
      ]
    },
    {
      "cell_type": "code",
      "execution_count": 8,
      "metadata": {
        "collapsed": true,
        "id": "vsVrrfAuZiok",
        "colab": {
          "base_uri": "https://localhost:8080/"
        },
        "outputId": "a5f40fec-2522-45c0-fc13-179d6b7bb9a0"
      },
      "outputs": [
        {
          "output_type": "stream",
          "name": "stdout",
          "text": [
            "[-0.13553844392299652,0.03944551944732666,0.03806566819548607,0.08553558588027954,-0.02614559605717659]\n",
            "[('cgi', 0.989105761051178), ('something', 0.9889155626296997)]\n"
          ]
        }
      ],
      "source": [
        "# EXERCICIO\n",
        "from pyspark.mllib.feature import Word2Vec\n",
        "\n",
        "model = (Word2Vec().setVectorSize(5).setSeed(42).fit(wordsRDD))  #COMPLETAR = setVectorSize(5).setSeed(42).fit(wordsRDD))\n",
        "\n",
        "print (model.transform(u'entertaining'))\n",
        "print (list(model.findSynonyms(u'entertaining', 2)))"
      ]
    },
    {
      "cell_type": "code",
      "execution_count": 29,
      "metadata": {
        "collapsed": true,
        "id": "vWPvST_JZiol"
      },
      "outputs": [],
      "source": [
        "dist = np.abs(model.transform(u'entertaining')-np.array([0.0136831374839,0.00371457682922,-0.135785803199,0.047585401684,0.0414853096008])).mean()\n",
        "assert dist<1e-6, 'valores incorretos'\n",
        "assert list(model.findSynonyms(u'entertaining', 1))[0][0] == 'god', 'valores incorretos'"
      ]
    },
    {
      "cell_type": "markdown",
      "metadata": {
        "id": "m59cQD5-Ziol"
      },
      "source": [
        "### **(1c) Generando un RDD de arreglos**\n",
        "\n",
        "#### Como primer paso, necesitamos generar un diccionario donde la clave son las palabras y el valor es el vector que representa esa palabra.\n",
        "\n",
        "#### Para esto primero generaremos una lista `uniqueWords` que contiene las palabras únicas de las palabras RDD, eliminando aquellas que aparecen menos de 5 veces [$^1$](#1). A continuación, crearemos un diccionario `w2v` donde la clave es un token y el valor es un `np.array` del arreglo transformado de ese token[$^2$](#2).\n",
        "\n",
        "#### Finalmente, creemos un RDD llamado `vectorsRDD` donde cada registro está representado por una matriz donde cada fila representa una palabra transformada."
      ]
    },
    {
      "cell_type": "code",
      "execution_count": 14,
      "metadata": {
        "collapsed": true,
        "id": "3WUotz6LZiom",
        "colab": {
          "base_uri": "https://localhost:8080/"
        },
        "outputId": "494f950d-b78c-46c0-da0d-d8a8003744c8"
      },
      "outputs": [
        {
          "output_type": "stream",
          "name": "stdout",
          "text": [
            "3388 tokens únicos\n",
            "Vetor entertaining: [-0.13553844392299652,0.03944551944732666,0.03806566819548607,0.08553558588027954,-0.02614559605717659]\n",
            "(5, 5) (10, 5)\n"
          ]
        }
      ],
      "source": [
        "# EXERCICIO\n",
        "uniqueWords = (wordsRDD.flatMap(lambda ws: [(w, 1) for w in ws]).reduceByKey(lambda x,y: x+y).filter(lambda wf: wf[1]>=5).map(lambda wf: wf[0]).collect())\n",
        "#COMPLETAR = flatMap(lambda ws: [(w, 1) for w in ws]).reduceByKey(lambda x,y: x+y).filter(lambda wf: wf[1]>=5).map(lambda wf: wf[0]).\n",
        "\n",
        "print ('{} tokens únicos'.format(len(uniqueWords)))\n",
        "\n",
        "w2v = {}\n",
        "for w in uniqueWords:\n",
        "    w2v[w] = model.transform(w)\n",
        "w2vb = sc.broadcast(w2v)       \n",
        "print ('Vetor entertaining: {}'.format( w2v[u'entertaining']))\n",
        "\n",
        "vectorsRDD = (wordsRDD.map(lambda ws: np.array([w2vb.value[w] for w in ws if w in w2vb.value]))) #COMPLETAR = .map(lambda ws: np.array([w2vb.value[w] for w in ws if w in w2vb.value]))\n",
        "recs = vectorsRDD.take(2)\n",
        "firstRec, secondRec = recs[0], recs[1]\n",
        "print (firstRec.shape, secondRec.shape)"
      ]
    },
    {
      "cell_type": "code",
      "source": [
        "# TEST Tokenizing the small datasets (1c)\n",
        "assert len(uniqueWords) == 3388,  'valor incorreto'\n",
        "assert np.mean(np.abs(w2v[u'entertaining']-[-0.13553844392299652,0.03944551944732666,0.03806566819548607,0.08553558588027954,-0.02614559605717659]))<1e-6,'valor incorreto'\n",
        "assert secondRec.shape == (10,5)"
      ],
      "metadata": {
        "id": "Myj6YfLhoLGk"
      },
      "execution_count": 16,
      "outputs": []
    },
    {
      "cell_type": "markdown",
      "metadata": {
        "id": "4puyJWUkZiom"
      },
      "source": [
        "### **Parte 2: k-Means para cuantificar atributos**\n",
        "\n",
        "#### Llegados a este punto, es fácil ver que no podemos aplicar nuestras técnicas de aprendizaje supervisado a esta base de datos:\n",
        "\n",
        "   * #### La regresión logística requiere un vector de tamaño fijo que represente cada objeto\n",
        "   * #### k-NN necesita una forma clara de comparar dos objetos, ¿qué métrica de similitud debemos aplicar?\n",
        "  \n",
        "#### Para resolver esta situación, realicemos una nueva transformación en nuestro RDD. Primero, aprovechemos el hecho de que dos tokens con un significado similar se asignan a vectores similares para agruparlos en un solo atributo.\n",
        "\n",
        "#### Al aplicar k-Means a este conjunto de vectores, podemos crear $k$ puntos representativos y, para cada documento, generar un histograma de recuento de tokens en los clústeres generados."
      ]
    },
    {
      "cell_type": "markdown",
      "metadata": {
        "id": "21pQgu7nZion"
      },
      "source": [
        "#### **(2a) Agrupando los vectores y creando centros representativos**\n",
        "\n",
        "#### Como primer paso generaremos un RDD con los valores del diccionario `w2v`. A continuación, aplicaremos el algoritmo `k-Means` con $k = 200$ y $seed = 42$."
      ]
    },
    {
      "cell_type": "code",
      "execution_count": 18,
      "metadata": {
        "collapsed": true,
        "id": "ioWeIhD_Zion",
        "colab": {
          "base_uri": "https://localhost:8080/"
        },
        "outputId": "f82c95a5-46fa-416d-f994-3ac7569b8a83"
      },
      "outputs": [
        {
          "output_type": "stream",
          "name": "stdout",
          "text": [
            "Sample vector: [array([-0.07269461,  0.09603201,  0.20506908, -0.03772384,  0.08151765])]\n",
            "10 first clusters allocation: [5, 136, 37, 12, 145, 66, 63, 84, 140, 66]\n"
          ]
        }
      ],
      "source": [
        "# EXERCICIO\n",
        "from  pyspark.mllib.clustering import KMeans\n",
        "\n",
        "vectors2RDD = sc.parallelize(np.array(list(w2v.values())),1)\n",
        "print ('Sample vector: {}'.format(vectors2RDD.take(1)))\n",
        "\n",
        "modelK = KMeans.train(vectors2RDD, 200, seed=42)   #COMPLETAR = train(vectors2RDD, 200, seed=42)\n",
        "\n",
        "clustersRDD = vectors2RDD.map(lambda x: modelK.predict(x))\n",
        "print ('10 first clusters allocation: {}'.format(clustersRDD.take(10)))"
      ]
    },
    {
      "cell_type": "code",
      "execution_count": 20,
      "metadata": {
        "collapsed": true,
        "id": "2X4Zmm0OZion"
      },
      "outputs": [],
      "source": [
        "# TEST Amazon record with the most tokens (1d)\n",
        "assert clustersRDD.take(10)==[5, 136, 37, 12, 145, 66, 63, 84, 140, 66], 'valor incorreto'"
      ]
    },
    {
      "cell_type": "markdown",
      "metadata": {
        "id": "DyHng62wZioo"
      },
      "source": [
        "#### **(2b) Transformación de matriz de datos en vectores cuantificados**\n",
        "\n",
        "#### El siguiente paso es transformar nuestro RDD de frases en un RDD de pares (id, vector cuantificado). Para ello crearemos una función cuantificadora que recibirá como parámetros el objeto, el modelo k-means, el valor de k y el diccionario word2vec.\n",
        "\n",
        "#### Para cada punto, separemos el id y apliquemos la función `tokenize` a la cadena. Luego transformamos la lista de tokens en una matriz word2vec. Finalmente, aplicamos cada vector de esta matriz al modelo k-Means, generando un vector de tamaño $k$ donde cada posición $i$ indica cuántos tokens pertenecen al clúster $i$."
      ]
    },
    {
      "cell_type": "code",
      "execution_count": 22,
      "metadata": {
        "collapsed": true,
        "id": "jBHUOfPYZioo",
        "colab": {
          "base_uri": "https://localhost:8080/"
        },
        "outputId": "0a34ca28-e3d1-4e7e-99ac-bb98c50e0fef"
      },
      "outputs": [
        {
          "output_type": "stream",
          "name": "stdout",
          "text": [
            "[(64, array([0., 0., 0., 0., 0., 0., 0., 0., 0., 0., 0., 0., 0., 0., 0., 1., 0.,\n",
            "       0., 0., 0., 0., 0., 0., 0., 0., 0., 0., 0., 0., 0., 0., 0., 0., 0.,\n",
            "       1., 0., 0., 0., 0., 0., 0., 0., 0., 0., 0., 0., 0., 0., 0., 0., 0.,\n",
            "       0., 0., 0., 0., 0., 0., 0., 0., 0., 0., 0., 0., 0., 0., 0., 0., 0.,\n",
            "       0., 0., 0., 0., 0., 0., 0., 0., 0., 0., 0., 0., 0., 0., 0., 0., 0.,\n",
            "       0., 0., 0., 0., 0., 0., 0., 1., 1., 0., 0., 0., 0., 0., 0., 0., 0.,\n",
            "       0., 0., 0., 0., 0., 0., 0., 0., 0., 0., 0., 0., 0., 0., 0., 0., 0.,\n",
            "       0., 0., 0., 0., 0., 0., 0., 0., 0., 0., 0., 0., 0., 0., 0., 0., 0.,\n",
            "       0., 0., 0., 0., 0., 0., 0., 0., 0., 0., 0., 0., 0., 0., 0., 0., 0.,\n",
            "       0., 0., 0., 1., 0., 0., 0., 0., 0., 0., 0., 0., 0., 0., 0., 0., 0.,\n",
            "       0., 0., 0., 0., 0., 0., 0., 0., 0., 0., 0., 0., 0., 0., 0., 0., 0.,\n",
            "       0., 0., 0., 0., 0., 0., 0., 0., 0., 0., 0., 0., 0., 0., 0., 0., 0.,\n",
            "       0., 0., 0., 0., 0., 0., 0., 0., 0., 0., 0., 0., 0., 0., 0., 0., 0.,\n",
            "       0., 0., 0., 0., 0., 0., 0., 0., 0., 0., 0., 0., 0., 0., 0., 0., 0.,\n",
            "       0., 0., 0., 0., 0., 0., 0., 0., 0., 0., 0., 0., 0., 0., 0., 0., 0.,\n",
            "       0., 0., 0., 0., 0., 0., 0., 0., 0., 0., 0., 0., 0., 0., 0., 0., 0.,\n",
            "       0., 0., 0., 0., 0., 0., 0., 0., 0., 0., 0., 0., 0., 0., 0., 0., 0.,\n",
            "       0., 0., 0., 0., 0., 0., 0., 0., 0., 0., 0., 0., 0., 0., 0., 0., 0.,\n",
            "       0., 0., 0., 0., 0., 0., 0., 0., 0., 0., 0., 0., 0., 0., 0., 0., 0.,\n",
            "       0., 0., 0., 0., 0., 0., 0., 0., 0., 0., 0., 0., 0., 0., 0., 0., 0.,\n",
            "       0., 0., 0., 0., 0., 0., 0., 0., 0., 0., 0., 0., 0., 0., 0., 0., 0.,\n",
            "       0., 0., 0., 0., 0., 0., 0., 0., 0., 0., 0., 0., 0., 0., 0., 0., 0.,\n",
            "       0., 0., 0., 0., 0., 0., 0., 0., 0., 0., 0., 0., 0., 0., 0., 0., 0.,\n",
            "       0., 0., 0., 0., 0., 0., 0., 0., 0., 0., 0., 0., 0., 0., 0., 0., 0.,\n",
            "       0., 0., 0., 0., 0., 0., 0., 0., 0., 0., 0., 0., 0., 0., 0., 0., 0.,\n",
            "       0., 0., 0., 0., 0., 0., 0., 0., 0., 0., 0., 0., 0., 0., 0., 0., 0.,\n",
            "       0., 0., 0., 0., 0., 0., 0., 0., 0., 0., 0., 0., 0., 0., 0., 0., 0.,\n",
            "       0., 0., 0., 0., 0., 0., 0., 0., 0., 0., 0., 0., 0., 0., 0., 0., 0.,\n",
            "       0., 0., 0., 0., 0., 0., 0., 0., 0., 0., 0., 0., 0., 0., 0., 0., 0.,\n",
            "       0., 0., 0., 0., 0., 0., 0.]))]\n"
          ]
        }
      ],
      "source": [
        "# EXERCICIO\n",
        "def quantizador(point, model, k, w2v):\n",
        "\n",
        "    key = point[0]             #COMPLETAR = point[0]   \n",
        "\n",
        "    words = tokenize(point[1]) #COMPLETAR = tokenize(point[1])\n",
        "\n",
        "    matrix = np.array( [w2v[w] for w in words if w in w2v] ) #COMPLETAR = [w2v[w] for w in words if w in w2v]\n",
        "\n",
        "    features = np.zeros(k)\n",
        "    for v in matrix:\n",
        "        c = model.predict(v)   #COMPLETAR = model.predict(v) \n",
        "        features[c] += 1\n",
        "    return (key, features)\n",
        "    \n",
        "quantRDD = dataRDD.map(lambda x: quantizador(x, modelK, 500, w2v))\n",
        "\n",
        "print (quantRDD.take(1))"
      ]
    },
    {
      "cell_type": "code",
      "execution_count": 23,
      "metadata": {
        "collapsed": true,
        "id": "19JHCxFFZioo"
      },
      "outputs": [],
      "source": [
        "# TEST Implement a TF function (2a)\n",
        "assert quantRDD.take(1)[0][1].sum() == 5, 'valores incorretos'"
      ]
    }
  ],
  "metadata": {
    "kernelspec": {
      "display_name": "Python 3 (ipykernel)",
      "language": "python",
      "name": "python3"
    },
    "language_info": {
      "codemirror_mode": {
        "name": "ipython",
        "version": 3
      },
      "file_extension": ".py",
      "mimetype": "text/x-python",
      "name": "python",
      "nbconvert_exporter": "python",
      "pygments_lexer": "ipython3",
      "version": "3.9.7"
    },
    "colab": {
      "name": "LaboratorioK-Means.ipynb",
      "provenance": []
    }
  },
  "nbformat": 4,
  "nbformat_minor": 0
}